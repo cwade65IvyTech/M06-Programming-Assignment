{
 "cells": [
  {
   "cell_type": "code",
   "execution_count": null,
   "id": "0d4facbc",
   "metadata": {},
   "outputs": [],
   "source": [
    "from datetime import datetime\n",
    "now = datetime.today()\n",
    "time_string = \"%B %d %Y\"\n",
    "current_date = now.strftime(time_string)\n",
    "today_write = open(\"today.txt\", \"wt\")\n",
    "print(current_date, file = today_write)\n",
    "today_write.close()\n"
   ]
  },
  {
   "cell_type": "code",
   "execution_count": 17,
   "id": "d8231d79",
   "metadata": {},
   "outputs": [],
   "source": [
    "today_read = open(\"today.txt\", \"rt\")\n",
    "today_string = today_read.read()\n",
    "today_read.close()"
   ]
  },
  {
   "cell_type": "code",
   "execution_count": 27,
   "id": "10339f7b",
   "metadata": {},
   "outputs": [
    {
     "data": {
      "text/plain": [
       "datetime.datetime(1900, 1, 1, 0, 0)"
      ]
     },
     "execution_count": 27,
     "metadata": {},
     "output_type": "execute_result"
    }
   ],
   "source": [
    "datetime.strptime(today_string.strip(), current_date)"
   ]
  },
  {
   "cell_type": "code",
   "execution_count": 38,
   "id": "c30de901",
   "metadata": {},
   "outputs": [],
   "source": [
    "from multiprocessing import Process\n",
    "import random\n",
    "from datetime import datetime\n",
    "from time import sleep\n",
    "def kinda_times():\n",
    "    sleep(random.random())\n",
    "    print(datetime.strftime(datetime.today(), \"%H:%M:%S:%f\"))\n",
    "if __name__ == '__main__':\n",
    "    for x in range(3):\n",
    "        p = Process(target=kinda_times)\n",
    "        p.start()"
   ]
  },
  {
   "cell_type": "markdown",
   "id": "5c53e4e7",
   "metadata": {},
   "source": [
    "Note: The documentations for the multiprocessing and datetime modules were incredibly helpful for completing these prompts.  Also, I cannot get the final section to print out in Jupyter Notebook, but it does function in a standard .py file.  \n",
    "Some of the outputs I got running the final program as a .py file include:\n",
    "09:48:23:518245\n",
    "09:48:23:630882\n",
    "09:48:24:319373\n",
    "As well as:\n",
    "09:55:23:665900\n",
    "09:55:23:700867\n",
    "09:55:24:153518\n",
    "And my favorite:\n",
    "09:48:07:803125\n",
    "09:48:08:277998\n",
    "09:48:08:277998\n",
    "Links: https://docs.python.org/3/library/multiprocessing.html#the-process-class\n",
    "       https://docs.python.org/3/library/datetime.html#strftime-and-strptime-format-codes"
   ]
  }
 ],
 "metadata": {
  "kernelspec": {
   "display_name": "Python 3",
   "language": "python",
   "name": "python3"
  },
  "language_info": {
   "codemirror_mode": {
    "name": "ipython",
    "version": 3
   },
   "file_extension": ".py",
   "mimetype": "text/x-python",
   "name": "python",
   "nbconvert_exporter": "python",
   "pygments_lexer": "ipython3",
   "version": "3.11.4"
  }
 },
 "nbformat": 4,
 "nbformat_minor": 5
}
