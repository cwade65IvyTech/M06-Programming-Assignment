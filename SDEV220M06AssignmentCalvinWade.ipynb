{
 "cells": [
  {
   "cell_type": "code",
   "execution_count": 5,
   "id": "0d4facbc",
   "metadata": {},
   "outputs": [],
   "source": [
    "from datetime import datetime\n",
    "now = datetime.today()\n",
    "time_string = \"%B %d %Y\"\n",
    "current_date = now.strftime(time_string)\n",
    "with open(\"today.txt\", \"wt\") as today_write:\n",
    "    print(current_date, file = today_write)\n"
   ]
  },
  {
   "cell_type": "code",
   "execution_count": 6,
   "id": "d8231d79",
   "metadata": {},
   "outputs": [],
   "source": [
    "with open(\"today.txt\", \"rt\") as today_read:\n",
    "    today_string = today_read.read()"
   ]
  },
  {
   "cell_type": "code",
   "execution_count": 7,
   "id": "10339f7b",
   "metadata": {},
   "outputs": [
    {
     "data": {
      "text/plain": [
       "datetime.datetime(2025, 10, 6, 0, 0)"
      ]
     },
     "execution_count": 7,
     "metadata": {},
     "output_type": "execute_result"
    }
   ],
   "source": [
    "datetime.strptime(today_string.strip(), time_string)"
   ]
  },
  {
   "cell_type": "code",
   "execution_count": 8,
   "id": "c30de901",
   "metadata": {},
   "outputs": [
    {
     "name": "stdout",
     "output_type": "stream",
     "text": [
      "Processes completed.\n",
      "Processes completed.\n",
      "Processes completed.\n"
     ]
    }
   ],
   "source": [
    "from multiprocessing import Process\n",
    "import random\n",
    "from datetime import datetime\n",
    "from time import sleep\n",
    "def kinda_times():\n",
    "    sleep(random.random())\n",
    "    print(datetime.strftime(datetime.today(), \"%H:%M:%S:%f\"))\n",
    "if __name__ == '__main__':\n",
    "    processes = []\n",
    "    for x in range(3):\n",
    "        p = Process(target=kinda_times)\n",
    "        p.start()\n",
    "        processes.append(p)\n",
    "    for p in processes:\n",
    "        p.join()\n",
    "        print(\"Processes completed.\")"
   ]
  },
  {
   "cell_type": "markdown",
   "id": "5c53e4e7",
   "metadata": {},
   "source": [
    "Note: The documentations for the multiprocessing and datetime modules were incredibly helpful for completing these prompts.\n",
    "Also, I cannot get the final section to print out in Jupyter Notebook, but it does function in a standard .py file.  \n",
    "Some of the outputs I got after making some more corrections and running the final program as a .py file include: \n",
    "11:17:28:099509\n",
    "11:17:28:252821\n",
    "Processes completed.\n",
    "11:17:28:465936\n",
    "Processes completed.\n",
    "Processes completed.\n",
    "And: \n",
    "11:19:16:952871\n",
    "Processes completed.\n",
    "11:19:17:234261\n",
    "11:19:17:234261\n",
    "Processes completed.\n",
    "Processes completed.\n",
    "Links: https://docs.python.org/3/library/multiprocessing.html#the-process-class and https://docs.python.org/3/library/datetime.html#strftime-and-strptime-format-codes"
   ]
  }
 ],
 "metadata": {
  "kernelspec": {
   "display_name": "Python 3",
   "language": "python",
   "name": "python3"
  },
  "language_info": {
   "codemirror_mode": {
    "name": "ipython",
    "version": 3
   },
   "file_extension": ".py",
   "mimetype": "text/x-python",
   "name": "python",
   "nbconvert_exporter": "python",
   "pygments_lexer": "ipython3",
   "version": "3.11.4"
  }
 },
 "nbformat": 4,
 "nbformat_minor": 5
}
